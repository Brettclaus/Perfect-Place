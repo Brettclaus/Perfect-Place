{
 "cells": [
  {
   "cell_type": "code",
   "execution_count": null,
   "metadata": {},
   "outputs": [],
   "source": []
  },
  {
   "cell_type": "code",
   "execution_count": 52,
   "metadata": {},
   "outputs": [],
   "source": [
    "import json\n",
    "import requests\n",
    "\n",
    "# Replace with your actual ChatGPT API key\n",
    "# dont run until ready, takes forever and costs money! \n",
    "api_key = \"\"\n",
    "\n",
    "\n",
    "# Make chat response function\n",
    "def get_chatgpt_response(prompt):\n",
    "    headers = {\n",
    "        \"Authorization\": f\"Bearer {api_key}\",\n",
    "        \"Content-Type\": \"application/json\"\n",
    "    }\n",
    "    data = {\n",
    "        \"model\": \"gpt-3.5-turbo\",\n",
    "        \"messages\": [\n",
    "            {\"role\": \"system\", \"content\": \"You are a helpful weather assistant, but you only respond with numbers, not even units next to the numbers.\"},\n",
    "            {\"role\": \"user\", \"content\": prompt}\n",
    "        ],\n",
    "        \"temperature\": .05 #adjusted lower to keep responses consistant\n",
    "    }\n",
    "    response = requests.post(\"https://api.openai.com/v1/chat/completions\",\n",
    "                             headers=headers, json=data)\n",
    "    if response.status_code == 200:\n",
    "        return response.json()['choices'][0]['message']['content'].strip()\n",
    "    else:\n",
    "        return f\"Error in ChatGPT response: {response.status_code}\"\n"
   ]
  },
  {
   "cell_type": "code",
   "execution_count": 53,
   "metadata": {},
   "outputs": [],
   "source": [
    "# Load JSON data\n",
    "file_path = 'chat_data.json'\n",
    "with open(file_path, 'r', encoding='utf-8') as file:\n",
    "    data = json.load(file)\n"
   ]
  },
  {
   "cell_type": "code",
   "execution_count": 54,
   "metadata": {},
   "outputs": [],
   "source": [
    "# Update data with ChatGPT information\n",
    "for item in data:\n",
    "    rain_prompt = f\"Tell me with just a number, aproximately how many inches of perciptation {item['County']} {item['State']} gets?\"\n",
    "    sun_prompt = f\"Tell me with just a number, aproximately how many days of sun {item['County']} {item['State']} gets?\"\n",
    "    item['Inches of Rain'] = get_chatgpt_response(rain_prompt)\n",
    "    item['Days of Sun'] = get_chatgpt_response(sun_prompt)\n",
    "\n"
   ]
  },
  {
   "cell_type": "code",
   "execution_count": 55,
   "metadata": {},
   "outputs": [],
   "source": [
    "new_file_path = 'chat_sun_rain_data.json'  # Specify your new file name here\n",
    "\n",
    "# Save the updated data\n",
    "with open(new_file_path, 'w', encoding='utf-8') as file:\n",
    "    json.dump(data, file, indent=4)"
   ]
  },
  {
   "cell_type": "code",
   "execution_count": 11,
   "metadata": {},
   "outputs": [
    {
     "data": {
      "text/plain": [
       "'255'"
      ]
     },
     "execution_count": 11,
     "metadata": {},
     "output_type": "execute_result"
    }
   ],
   "source": [
    "item['Days of Sun']"
   ]
  },
  {
   "cell_type": "code",
   "execution_count": null,
   "metadata": {},
   "outputs": [],
   "source": []
  },
  {
   "cell_type": "code",
   "execution_count": null,
   "metadata": {},
   "outputs": [],
   "source": []
  }
 ],
 "metadata": {
  "kernelspec": {
   "display_name": "base",
   "language": "python",
   "name": "python3"
  },
  "language_info": {
   "codemirror_mode": {
    "name": "ipython",
    "version": 3
   },
   "file_extension": ".py",
   "mimetype": "text/x-python",
   "name": "python",
   "nbconvert_exporter": "python",
   "pygments_lexer": "ipython3",
   "version": "3.11.5"
  }
 },
 "nbformat": 4,
 "nbformat_minor": 2
}
