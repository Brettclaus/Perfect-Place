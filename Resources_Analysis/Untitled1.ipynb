{
 "cells": [
  {
   "cell_type": "code",
   "execution_count": null,
   "id": "92bc0a83",
   "metadata": {
    "scrolled": false
   },
   "outputs": [],
   "source": [
    "pip install pandas tabula-py"
   ]
  },
  {
   "cell_type": "code",
   "execution_count": null,
   "id": "e2904d54",
   "metadata": {},
   "outputs": [],
   "source": []
  },
  {
   "cell_type": "code",
   "execution_count": null,
   "id": "2cb0846e",
   "metadata": {},
   "outputs": [],
   "source": [
    "import tabula\n",
    "import pandas as pd\n",
    "import os\n",
    "import tabula\n",
    "import pandas as pd\n",
    "import os\n",
    "\n",
    "# Specify the path to the Java executable\n",
    "java_executable = '/usr/bin/java'\n",
    "\n",
    "# Specify the path to the tabula JAR file\n",
    "tabula_jar_path = '/Users/spicysara/anaconda3/lib/python3.11/site-packages/tabula/tabula-1.0.5-jar-with-dependencies.jar'\n",
    "\n",
    "# Specify the path to the Java home directory\n",
    "java_home = '/usr'\n",
    "\n",
    "# Set the JAVA_HOME environment variable\n",
    "os.environ['JAVA_HOME'] = java_home\n",
    "\n",
    "# Use tabula to extract tables from the PDF\n",
    "tables = tabula.read_pdf(pdf_file_path, pages='all', multiple_tables=True, java_options=f'-Djava.awt.headless=true -Dfile.encoding=UTF8 -jar {tabula_jar_path}')\n",
    "\n",
    "if tables:\n",
    "    df = tables[0]\n",
    "    display(df)  # Use display() to show the DataFrame in Jupyter Notebook\n",
    "    df.to_csv('cleaned_data.csv', index=False)\n",
    "else:\n",
    "    print(\"No tables found in the PDF.\")\n"
   ]
  },
  {
   "cell_type": "code",
   "execution_count": null,
   "id": "956777b2",
   "metadata": {
    "scrolled": true
   },
   "outputs": [],
   "source": []
  },
  {
   "cell_type": "code",
   "execution_count": null,
   "id": "0adcb876",
   "metadata": {},
   "outputs": [],
   "source": []
  }
 ],
 "metadata": {
  "kernelspec": {
   "display_name": "Python 3 (ipykernel)",
   "language": "python",
   "name": "python3"
  },
  "language_info": {
   "codemirror_mode": {
    "name": "ipython",
    "version": 3
   },
   "file_extension": ".py",
   "mimetype": "text/x-python",
   "name": "python",
   "nbconvert_exporter": "python",
   "pygments_lexer": "ipython3",
   "version": "3.11.4"
  }
 },
 "nbformat": 4,
 "nbformat_minor": 5
}
